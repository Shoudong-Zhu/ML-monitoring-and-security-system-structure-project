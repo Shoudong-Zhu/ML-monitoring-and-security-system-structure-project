{
 "cells": [
  {
   "cell_type": "markdown",
   "metadata": {},
   "source": [
    "# AI Platform Prediction Load Testing using Locust\n",
    "\n",
    "This Notebook demonstrates how to perform load testing of AI Platform Prediction using [Locust](https://locust.io). The Notebook covers the following steps:\n",
    "1. Creating custom log-based metrics in Cloud Monitoring for the Locust logs\n",
    "2. Creating a Cloud Monitoring Dashboard to display the AI Platform and custom metrics\n",
    "3. Deploying Locust to GKE clustor\n",
    "4. Configuring Lucost test\n",
    "5. Runing the Lucost load test\n"
   ]
  },
  {
   "cell_type": "markdown",
   "metadata": {},
   "source": [
    "## Setup\n",
    "This notebook was tested on **AI Platform Notebooks** using the standard TF 2.8 image."
   ]
  },
  {
   "cell_type": "markdown",
   "metadata": {},
   "source": [
    "### Install required packages\n",
    "\n",
    "You can safely ignore the dependency errors. Confirm the last message starting from \"Successfully installed...\""
   ]
  },
  {
   "cell_type": "code",
   "execution_count": 61,
   "metadata": {},
   "outputs": [
    {
     "name": "stdout",
     "output_type": "stream",
     "text": [
      "Requirement already satisfied: locust==2.11.1 in /home/jupyter/.local/lib/python3.10/site-packages (2.11.1)\n",
      "Requirement already satisfied: google-cloud-monitoring==2.11.1 in /home/jupyter/.local/lib/python3.10/site-packages (2.11.1)\n",
      "Requirement already satisfied: google-cloud-logging==3.2.2 in /home/jupyter/.local/lib/python3.10/site-packages (3.2.2)\n",
      "Requirement already satisfied: google-cloud-monitoring-dashboards==2.7.2 in /home/jupyter/.local/lib/python3.10/site-packages (2.7.2)\n",
      "Requirement already satisfied: gevent>=20.12.1 in /home/jupyter/.local/lib/python3.10/site-packages (from locust==2.11.1) (23.9.0.post1)\n",
      "Requirement already satisfied: flask>=2.0.0 in /home/jupyter/.local/lib/python3.10/site-packages (from locust==2.11.1) (2.3.3)\n",
      "Requirement already satisfied: Werkzeug>=2.0.0 in /home/jupyter/.local/lib/python3.10/site-packages (from locust==2.11.1) (2.3.7)\n",
      "Requirement already satisfied: requests>=2.23.0 in /opt/conda/lib/python3.10/site-packages (from locust==2.11.1) (2.31.0)\n",
      "Requirement already satisfied: msgpack>=0.6.2 in /opt/conda/lib/python3.10/site-packages (from locust==2.11.1) (1.0.5)\n",
      "Requirement already satisfied: pyzmq<23.0.0,>=22.2.1 in /home/jupyter/.local/lib/python3.10/site-packages (from locust==2.11.1) (22.3.0)\n",
      "Requirement already satisfied: geventhttpclient>=1.5.1 in /home/jupyter/.local/lib/python3.10/site-packages (from locust==2.11.1) (2.0.10)\n",
      "Requirement already satisfied: ConfigArgParse>=1.0 in /home/jupyter/.local/lib/python3.10/site-packages (from locust==2.11.1) (1.7)\n",
      "Requirement already satisfied: psutil>=5.6.7 in /opt/conda/lib/python3.10/site-packages (from locust==2.11.1) (5.9.3)\n",
      "Requirement already satisfied: Flask-BasicAuth>=0.2.0 in /home/jupyter/.local/lib/python3.10/site-packages (from locust==2.11.1) (0.2.0)\n",
      "Requirement already satisfied: Flask-Cors>=3.0.10 in /home/jupyter/.local/lib/python3.10/site-packages (from locust==2.11.1) (4.0.0)\n",
      "Requirement already satisfied: roundrobin>=0.0.2 in /home/jupyter/.local/lib/python3.10/site-packages (from locust==2.11.1) (0.0.4)\n",
      "Requirement already satisfied: typing-extensions>=3.7.4.3 in /opt/conda/lib/python3.10/site-packages (from locust==2.11.1) (4.5.0)\n",
      "Requirement already satisfied: google-api-core[grpc]!=2.0.*,!=2.1.*,!=2.2.*,!=2.3.*,!=2.4.*,!=2.5.*,!=2.6.*,!=2.7.*,<3.0.0dev,>=1.32.0 in /opt/conda/lib/python3.10/site-packages (from google-cloud-monitoring==2.11.1) (1.34.0)\n",
      "Requirement already satisfied: proto-plus<2.0.0dev,>=1.22.0 in /opt/conda/lib/python3.10/site-packages (from google-cloud-monitoring==2.11.1) (1.22.3)\n",
      "Requirement already satisfied: protobuf<5.0.0dev,>=3.19.0 in /opt/conda/lib/python3.10/site-packages (from google-cloud-monitoring==2.11.1) (3.19.6)\n",
      "Requirement already satisfied: google-cloud-appengine-logging<2.0.0dev,>=0.1.0 in /home/jupyter/.local/lib/python3.10/site-packages (from google-cloud-logging==3.2.2) (1.3.1)\n",
      "Requirement already satisfied: google-cloud-audit-log<1.0.0dev,>=0.1.0 in /home/jupyter/.local/lib/python3.10/site-packages (from google-cloud-logging==3.2.2) (0.2.5)\n",
      "Requirement already satisfied: google-cloud-core<3.0.0dev,>=2.0.0 in /opt/conda/lib/python3.10/site-packages (from google-cloud-logging==3.2.2) (2.3.3)\n",
      "Requirement already satisfied: grpc-google-iam-v1<1.0.0dev,>=0.12.4 in /opt/conda/lib/python3.10/site-packages (from google-cloud-logging==3.2.2) (0.12.6)\n",
      "Requirement already satisfied: Jinja2>=3.1.2 in /opt/conda/lib/python3.10/site-packages (from flask>=2.0.0->locust==2.11.1) (3.1.2)\n",
      "Requirement already satisfied: itsdangerous>=2.1.2 in /home/jupyter/.local/lib/python3.10/site-packages (from flask>=2.0.0->locust==2.11.1) (2.1.2)\n",
      "Requirement already satisfied: click>=8.1.3 in /opt/conda/lib/python3.10/site-packages (from flask>=2.0.0->locust==2.11.1) (8.1.6)\n",
      "Requirement already satisfied: blinker>=1.6.2 in /home/jupyter/.local/lib/python3.10/site-packages (from flask>=2.0.0->locust==2.11.1) (1.6.2)\n",
      "Requirement already satisfied: zope.event in /home/jupyter/.local/lib/python3.10/site-packages (from gevent>=20.12.1->locust==2.11.1) (5.0)\n",
      "Requirement already satisfied: zope.interface in /home/jupyter/.local/lib/python3.10/site-packages (from gevent>=20.12.1->locust==2.11.1) (6.0)\n",
      "Requirement already satisfied: greenlet>=2.0.0 in /opt/conda/lib/python3.10/site-packages (from gevent>=20.12.1->locust==2.11.1) (2.0.2)\n",
      "Requirement already satisfied: certifi in /opt/conda/lib/python3.10/site-packages (from geventhttpclient>=1.5.1->locust==2.11.1) (2023.7.22)\n",
      "Requirement already satisfied: six in /opt/conda/lib/python3.10/site-packages (from geventhttpclient>=1.5.1->locust==2.11.1) (1.16.0)\n",
      "Requirement already satisfied: brotli in /opt/conda/lib/python3.10/site-packages (from geventhttpclient>=1.5.1->locust==2.11.1) (1.0.9)\n",
      "Requirement already satisfied: googleapis-common-protos<2.0dev,>=1.56.2 in /opt/conda/lib/python3.10/site-packages (from google-api-core[grpc]!=2.0.*,!=2.1.*,!=2.2.*,!=2.3.*,!=2.4.*,!=2.5.*,!=2.6.*,!=2.7.*,<3.0.0dev,>=1.32.0->google-cloud-monitoring==2.11.1) (1.60.0)\n",
      "Requirement already satisfied: google-auth<3.0dev,>=1.25.0 in /opt/conda/lib/python3.10/site-packages (from google-api-core[grpc]!=2.0.*,!=2.1.*,!=2.2.*,!=2.3.*,!=2.4.*,!=2.5.*,!=2.6.*,!=2.7.*,<3.0.0dev,>=1.32.0->google-cloud-monitoring==2.11.1) (2.22.0)\n",
      "Requirement already satisfied: grpcio<2.0dev,>=1.33.2 in /opt/conda/lib/python3.10/site-packages (from google-api-core[grpc]!=2.0.*,!=2.1.*,!=2.2.*,!=2.3.*,!=2.4.*,!=2.5.*,!=2.6.*,!=2.7.*,<3.0.0dev,>=1.32.0->google-cloud-monitoring==2.11.1) (1.48.1)\n",
      "Requirement already satisfied: grpcio-status<2.0dev,>=1.33.2 in /opt/conda/lib/python3.10/site-packages (from google-api-core[grpc]!=2.0.*,!=2.1.*,!=2.2.*,!=2.3.*,!=2.4.*,!=2.5.*,!=2.6.*,!=2.7.*,<3.0.0dev,>=1.32.0->google-cloud-monitoring==2.11.1) (1.48.1)\n",
      "Requirement already satisfied: charset-normalizer<4,>=2 in /opt/conda/lib/python3.10/site-packages (from requests>=2.23.0->locust==2.11.1) (3.2.0)\n",
      "Requirement already satisfied: idna<4,>=2.5 in /opt/conda/lib/python3.10/site-packages (from requests>=2.23.0->locust==2.11.1) (3.4)\n",
      "Requirement already satisfied: urllib3<3,>=1.21.1 in /opt/conda/lib/python3.10/site-packages (from requests>=2.23.0->locust==2.11.1) (1.26.15)\n",
      "Requirement already satisfied: MarkupSafe>=2.1.1 in /home/jupyter/.local/lib/python3.10/site-packages (from Werkzeug>=2.0.0->locust==2.11.1) (2.1.3)\n",
      "Requirement already satisfied: cachetools<6.0,>=2.0.0 in /opt/conda/lib/python3.10/site-packages (from google-auth<3.0dev,>=1.25.0->google-api-core[grpc]!=2.0.*,!=2.1.*,!=2.2.*,!=2.3.*,!=2.4.*,!=2.5.*,!=2.6.*,!=2.7.*,<3.0.0dev,>=1.32.0->google-cloud-monitoring==2.11.1) (4.2.4)\n",
      "Requirement already satisfied: pyasn1-modules>=0.2.1 in /opt/conda/lib/python3.10/site-packages (from google-auth<3.0dev,>=1.25.0->google-api-core[grpc]!=2.0.*,!=2.1.*,!=2.2.*,!=2.3.*,!=2.4.*,!=2.5.*,!=2.6.*,!=2.7.*,<3.0.0dev,>=1.32.0->google-cloud-monitoring==2.11.1) (0.2.7)\n",
      "Requirement already satisfied: rsa<5,>=3.1.4 in /opt/conda/lib/python3.10/site-packages (from google-auth<3.0dev,>=1.25.0->google-api-core[grpc]!=2.0.*,!=2.1.*,!=2.2.*,!=2.3.*,!=2.4.*,!=2.5.*,!=2.6.*,!=2.7.*,<3.0.0dev,>=1.32.0->google-cloud-monitoring==2.11.1) (4.9)\n",
      "Requirement already satisfied: setuptools in /opt/conda/lib/python3.10/site-packages (from zope.event->gevent>=20.12.1->locust==2.11.1) (68.0.0)\n",
      "Requirement already satisfied: pyasn1<0.5.0,>=0.4.6 in /opt/conda/lib/python3.10/site-packages (from pyasn1-modules>=0.2.1->google-auth<3.0dev,>=1.25.0->google-api-core[grpc]!=2.0.*,!=2.1.*,!=2.2.*,!=2.3.*,!=2.4.*,!=2.5.*,!=2.6.*,!=2.7.*,<3.0.0dev,>=1.32.0->google-cloud-monitoring==2.11.1) (0.4.8)\n"
     ]
    }
   ],
   "source": [
    "!pip install --user locust==2.11.1\\\n",
    "  google-cloud-monitoring==2.11.1\\\n",
    "  google-cloud-logging==3.2.2\\\n",
    "  google-cloud-monitoring-dashboards==2.7.2"
   ]
  },
  {
   "cell_type": "code",
   "execution_count": 62,
   "metadata": {},
   "outputs": [
    {
     "data": {
      "text/plain": [
       "{'status': 'ok', 'restart': True}"
      ]
     },
     "execution_count": 62,
     "metadata": {},
     "output_type": "execute_result"
    }
   ],
   "source": [
    "# Automatically restart kernel after installs\n",
    "import IPython\n",
    "app = IPython.Application.instance()\n",
    "app.kernel.do_shutdown(True)  "
   ]
  },
  {
   "cell_type": "markdown",
   "metadata": {},
   "source": [
    "### Import libraries"
   ]
  },
  {
   "cell_type": "code",
   "execution_count": 4,
   "metadata": {},
   "outputs": [],
   "source": [
    "import base64\n",
    "import os\n",
    "import time\n",
    "import datetime\n",
    "import json\n",
    "import requests\n",
    "\n",
    "import numpy as np\n",
    "import pandas as pd\n",
    "\n",
    "import google.auth\n",
    "\n",
    "from typing import List\n",
    "\n",
    "from google.api_core.exceptions import GoogleAPICallError \n",
    "\n",
    "from google.cloud import logging_v2\n",
    "from google.cloud.logging_v2.services.metrics_service_v2 import MetricsServiceV2Client\n",
    "from google.cloud.logging_v2.services.logging_service_v2 import LoggingServiceV2Client\n",
    "\n",
    "from google.cloud.monitoring_dashboard_v1.types import Dashboard\n",
    "from google.cloud.monitoring_dashboard_v1 import DashboardsServiceClient\n",
    "from google.cloud.monitoring_v3 import MetricServiceClient\n",
    "from google.cloud.monitoring_v3.query import Query\n",
    "from google.cloud.monitoring_v3.types import TimeInterval\n",
    "\n",
    "from google.protobuf.json_format import ParseDict"
   ]
  },
  {
   "cell_type": "markdown",
   "metadata": {},
   "source": [
    "### Configure GCP environment settings"
   ]
  },
  {
   "cell_type": "code",
   "execution_count": 5,
   "metadata": {},
   "outputs": [],
   "source": [
    "PROJECT_ID = 'ultra-guard-361718' # Set your project Id\n",
    "BUCKET = 'ml_project_bucket_1' # Set your bucket name Id\n",
    "REGION = 'us-east4'  # Set your region for deploying the model\n",
    "GKE_CLUSTER_NAME = 'autopilot-cluster-1' # Set the GKE cluster name\n",
    "GKE_CLUSTER_ZONE = 'us-central1' # Set the GKE cluster zone\n",
    "MODEL_NAME = 'resnet_classifier'\n",
    "MODEL_VERSION = 'v1'\n",
    "IMAGES_FOLDER = 'test_images'\n",
    "GCS_LOCUST_TEST_CONFIG_DIR = 'gs://{}/locust-test'.format(BUCKET)"
   ]
  },
  {
   "cell_type": "markdown",
   "metadata": {},
   "source": [
    "## 1. Creating Custom Log-based Metrics in Cloud Monitoring\n",
    "\n",
    "In this section of the notebook you will use the [Python Cloud Logging client library](https://googleapis.dev/python/logging/latest/v2.html) to create a set of custom log-based metrics. The metrics are based on the log entries generated by the example locustfile script. The script writes the log entries into the *Cloud Logging* log named `locust`.\n",
    "\n",
    "Each log entry includes a set of key value pairs encoded as the JSON payload type. The metrics are based on the subset of keys from the log entry.\n",
    "\n",
    "Key | Value\n",
    "----|------\n",
    "test_id | An ID of a test\n",
    "model | An AI Platform Prediction Model name\n",
    "model_version | An AI Platform Prediction Model version\n",
    "latency | A 95 percentile response time, which is calculated over a 10 sliding second window\n",
    "num_requests | A total number of requests since the test started\n",
    "num_failures | A total number of requests since the test started\n",
    "user_count | A number of simulated users \n",
    "rps | A current requests per second\n",
    "\n",
    "\n",
    "Refer to the [Cloud Logging API reference](https://googleapis.dev/python/logging/latest/v2.html) for more information about the API."
   ]
  },
  {
   "cell_type": "markdown",
   "metadata": {},
   "source": [
    "### 1.1. Define a helper function that creates a custom log metric"
   ]
  },
  {
   "cell_type": "code",
   "execution_count": 6,
   "metadata": {},
   "outputs": [],
   "source": [
    "def create_locust_metric(\n",
    "    metric_name:str,\n",
    "    log_path:str, \n",
    "    value_field:str,  \n",
    "    bucket_bounds:List[int]):\n",
    "    \n",
    "    metric_path = logging_client.log_metric_path(PROJECT_ID, metric_name)\n",
    "    log_entry_filter = 'resource.type=global AND logName={}'.format(log_path)\n",
    "    \n",
    "    metric_descriptor = {\n",
    "        'metric_kind': 'DELTA',\n",
    "        'value_type': 'DISTRIBUTION',\n",
    "        'labels': [\n",
    "            {\n",
    "                'key': 'test_id',\n",
    "                'value_type': 'STRING'\n",
    "            },\n",
    "            {\n",
    "                'key': 'signature',\n",
    "                'value_type': 'STRING'\n",
    "            }\n",
    "        ]\n",
    "    }\n",
    "    \n",
    "    bucket_options = {\n",
    "        'explicit_buckets': {\n",
    "            'bounds': bucket_bounds\n",
    "        }\n",
    "    }\n",
    "    \n",
    "    value_extractor = 'EXTRACT(jsonPayload.{})'.format(value_field)\n",
    "    label_extractors = {\n",
    "        'test_id': 'EXTRACT(jsonPayload.test_id)',\n",
    "        'signature': 'EXTRACT(jsonPayload.signature)'\n",
    "    }\n",
    "    \n",
    "    metric = logging_v2.types.LogMetric(\n",
    "        name=metric_name,\n",
    "        filter=log_entry_filter,\n",
    "        value_extractor=value_extractor,\n",
    "        bucket_options=bucket_options,\n",
    "        label_extractors=label_extractors,\n",
    "        metric_descriptor=metric_descriptor,\n",
    "    )\n",
    "    \n",
    "    try:\n",
    "        logging_client.get_log_metric(metric_path)\n",
    "        print('Metric: {} already exists'.format(metric_path))\n",
    "    except:\n",
    "        request = logging_v2.types.logging_metrics.CreateLogMetricRequest(\n",
    "            parent=parent,\n",
    "            metric=metric,\n",
    "        )\n",
    "        logging_client.create_log_metric(request)\n",
    "        print('Created metric {}'.format(metric_path))"
   ]
  },
  {
   "cell_type": "markdown",
   "metadata": {},
   "source": [
    "### 1.2. Create a logging client."
   ]
  },
  {
   "cell_type": "code",
   "execution_count": 7,
   "metadata": {},
   "outputs": [],
   "source": [
    "log_name = 'locust'\n",
    "\n",
    "creds , _ = google.auth.default()\n",
    "logging_client = MetricsServiceV2Client(credentials=creds)\n",
    "\n",
    "parent = logging_client.common_project_path(PROJECT_ID)\n",
    "log_path = LoggingServiceV2Client.log_path(PROJECT_ID, log_name)"
   ]
  },
  {
   "cell_type": "markdown",
   "metadata": {},
   "source": [
    "### 1.3. Create metrics to track Locust logs"
   ]
  },
  {
   "cell_type": "code",
   "execution_count": 8,
   "metadata": {},
   "outputs": [
    {
     "ename": "AlreadyExists",
     "evalue": "409 Metric locust_users already exists.",
     "output_type": "error",
     "traceback": [
      "\u001b[0;31m---------------------------------------------------------------------------\u001b[0m",
      "\u001b[0;31mTypeError\u001b[0m                                 Traceback (most recent call last)",
      "Cell \u001b[0;32mIn[6], line 47\u001b[0m, in \u001b[0;36mcreate_locust_metric\u001b[0;34m(metric_name, log_path, value_field, bucket_bounds)\u001b[0m\n\u001b[1;32m     46\u001b[0m \u001b[38;5;28;01mtry\u001b[39;00m:\n\u001b[0;32m---> 47\u001b[0m     \u001b[43mlogging_client\u001b[49m\u001b[38;5;241;43m.\u001b[39;49m\u001b[43mget_log_metric\u001b[49m\u001b[43m(\u001b[49m\u001b[43mmetric_path\u001b[49m\u001b[43m)\u001b[49m\n\u001b[1;32m     48\u001b[0m     \u001b[38;5;28mprint\u001b[39m(\u001b[38;5;124m'\u001b[39m\u001b[38;5;124mMetric: \u001b[39m\u001b[38;5;132;01m{}\u001b[39;00m\u001b[38;5;124m already exists\u001b[39m\u001b[38;5;124m'\u001b[39m\u001b[38;5;241m.\u001b[39mformat(metric_path))\n",
      "File \u001b[0;32m~/.local/lib/python3.10/site-packages/google/cloud/logging_v2/services/metrics_service_v2/client.py:617\u001b[0m, in \u001b[0;36mMetricsServiceV2Client.get_log_metric\u001b[0;34m(self, request, metric_name, retry, timeout, metadata)\u001b[0m\n\u001b[1;32m    616\u001b[0m \u001b[38;5;28;01mif\u001b[39;00m \u001b[38;5;129;01mnot\u001b[39;00m \u001b[38;5;28misinstance\u001b[39m(request, logging_metrics\u001b[38;5;241m.\u001b[39mGetLogMetricRequest):\n\u001b[0;32m--> 617\u001b[0m     request \u001b[38;5;241m=\u001b[39m \u001b[43mlogging_metrics\u001b[49m\u001b[38;5;241;43m.\u001b[39;49m\u001b[43mGetLogMetricRequest\u001b[49m\u001b[43m(\u001b[49m\u001b[43mrequest\u001b[49m\u001b[43m)\u001b[49m\n\u001b[1;32m    618\u001b[0m     \u001b[38;5;66;03m# If we have keyword arguments corresponding to fields on the\u001b[39;00m\n\u001b[1;32m    619\u001b[0m     \u001b[38;5;66;03m# request, apply these.\u001b[39;00m\n",
      "File \u001b[0;32m/opt/conda/lib/python3.10/site-packages/proto/message.py:547\u001b[0m, in \u001b[0;36mMessage.__init__\u001b[0;34m(self, mapping, ignore_unknown_fields, **kwargs)\u001b[0m\n\u001b[1;32m    545\u001b[0m \u001b[38;5;28;01melse\u001b[39;00m:\n\u001b[1;32m    546\u001b[0m     \u001b[38;5;66;03m# Sanity check: Did we get something not a map? Error if so.\u001b[39;00m\n\u001b[0;32m--> 547\u001b[0m     \u001b[38;5;28;01mraise\u001b[39;00m \u001b[38;5;167;01mTypeError\u001b[39;00m(\n\u001b[1;32m    548\u001b[0m         \u001b[38;5;124m\"\u001b[39m\u001b[38;5;124mInvalid constructor input for \u001b[39m\u001b[38;5;132;01m%s\u001b[39;00m\u001b[38;5;124m: \u001b[39m\u001b[38;5;132;01m%r\u001b[39;00m\u001b[38;5;124m\"\u001b[39m\n\u001b[1;32m    549\u001b[0m         \u001b[38;5;241m%\u001b[39m (\n\u001b[1;32m    550\u001b[0m             \u001b[38;5;28mself\u001b[39m\u001b[38;5;241m.\u001b[39m\u001b[38;5;18m__class__\u001b[39m\u001b[38;5;241m.\u001b[39m\u001b[38;5;18m__name__\u001b[39m,\n\u001b[1;32m    551\u001b[0m             mapping,\n\u001b[1;32m    552\u001b[0m         )\n\u001b[1;32m    553\u001b[0m     )\n\u001b[1;32m    555\u001b[0m params \u001b[38;5;241m=\u001b[39m {}\n",
      "\u001b[0;31mTypeError\u001b[0m: Invalid constructor input for GetLogMetricRequest: 'projects/ultra-guard-361718/metrics/locust_users'",
      "\nDuring handling of the above exception, another exception occurred:\n",
      "\u001b[0;31m_InactiveRpcError\u001b[0m                         Traceback (most recent call last)",
      "File \u001b[0;32m/opt/conda/lib/python3.10/site-packages/google/api_core/grpc_helpers.py:65\u001b[0m, in \u001b[0;36m_wrap_unary_errors.<locals>.error_remapped_callable\u001b[0;34m(*args, **kwargs)\u001b[0m\n\u001b[1;32m     64\u001b[0m \u001b[38;5;28;01mtry\u001b[39;00m:\n\u001b[0;32m---> 65\u001b[0m     \u001b[38;5;28;01mreturn\u001b[39;00m \u001b[43mcallable_\u001b[49m\u001b[43m(\u001b[49m\u001b[38;5;241;43m*\u001b[39;49m\u001b[43margs\u001b[49m\u001b[43m,\u001b[49m\u001b[43m \u001b[49m\u001b[38;5;241;43m*\u001b[39;49m\u001b[38;5;241;43m*\u001b[39;49m\u001b[43mkwargs\u001b[49m\u001b[43m)\u001b[49m\n\u001b[1;32m     66\u001b[0m \u001b[38;5;28;01mexcept\u001b[39;00m grpc\u001b[38;5;241m.\u001b[39mRpcError \u001b[38;5;28;01mas\u001b[39;00m exc:\n",
      "File \u001b[0;32m/opt/conda/lib/python3.10/site-packages/grpc/_channel.py:1030\u001b[0m, in \u001b[0;36m_UnaryUnaryMultiCallable.__call__\u001b[0;34m(self, request, timeout, metadata, credentials, wait_for_ready, compression)\u001b[0m\n\u001b[1;32m   1028\u001b[0m state, call, \u001b[38;5;241m=\u001b[39m \u001b[38;5;28mself\u001b[39m\u001b[38;5;241m.\u001b[39m_blocking(request, timeout, metadata, credentials,\n\u001b[1;32m   1029\u001b[0m                               wait_for_ready, compression)\n\u001b[0;32m-> 1030\u001b[0m \u001b[38;5;28;01mreturn\u001b[39;00m \u001b[43m_end_unary_response_blocking\u001b[49m\u001b[43m(\u001b[49m\u001b[43mstate\u001b[49m\u001b[43m,\u001b[49m\u001b[43m \u001b[49m\u001b[43mcall\u001b[49m\u001b[43m,\u001b[49m\u001b[43m \u001b[49m\u001b[38;5;28;43;01mFalse\u001b[39;49;00m\u001b[43m,\u001b[49m\u001b[43m \u001b[49m\u001b[38;5;28;43;01mNone\u001b[39;49;00m\u001b[43m)\u001b[49m\n",
      "File \u001b[0;32m/opt/conda/lib/python3.10/site-packages/grpc/_channel.py:910\u001b[0m, in \u001b[0;36m_end_unary_response_blocking\u001b[0;34m(state, call, with_call, deadline)\u001b[0m\n\u001b[1;32m    909\u001b[0m \u001b[38;5;28;01melse\u001b[39;00m:\n\u001b[0;32m--> 910\u001b[0m     \u001b[38;5;28;01mraise\u001b[39;00m _InactiveRpcError(state)\n",
      "\u001b[0;31m_InactiveRpcError\u001b[0m: <_InactiveRpcError of RPC that terminated with:\n\tstatus = StatusCode.ALREADY_EXISTS\n\tdetails = \"Metric locust_users already exists.\"\n\tdebug_error_string = \"UNKNOWN:Error received from peer ipv4:216.239.34.174:443 {grpc_message:\"Metric locust_users already exists.\", grpc_status:6, created_time:\"2023-09-06T02:21:43.888970004+00:00\"}\"\n>",
      "\nThe above exception was the direct cause of the following exception:\n",
      "\u001b[0;31mAlreadyExists\u001b[0m                             Traceback (most recent call last)",
      "Cell \u001b[0;32mIn[8], line 6\u001b[0m\n\u001b[1;32m      3\u001b[0m value_field \u001b[38;5;241m=\u001b[39m \u001b[38;5;124m'\u001b[39m\u001b[38;5;124muser_count\u001b[39m\u001b[38;5;124m'\u001b[39m\n\u001b[1;32m      4\u001b[0m bucket_bounds \u001b[38;5;241m=\u001b[39m [\u001b[38;5;241m1\u001b[39m, \u001b[38;5;241m16\u001b[39m, \u001b[38;5;241m32\u001b[39m, \u001b[38;5;241m64\u001b[39m, \u001b[38;5;241m128\u001b[39m]\n\u001b[0;32m----> 6\u001b[0m \u001b[43mcreate_locust_metric\u001b[49m\u001b[43m(\u001b[49m\u001b[43mmetric_name\u001b[49m\u001b[43m,\u001b[49m\u001b[43m \u001b[49m\u001b[43mlog_path\u001b[49m\u001b[43m,\u001b[49m\u001b[43m \u001b[49m\u001b[43mvalue_field\u001b[49m\u001b[43m,\u001b[49m\u001b[43m \u001b[49m\u001b[43mbucket_bounds\u001b[49m\u001b[43m)\u001b[49m\n\u001b[1;32m      8\u001b[0m \u001b[38;5;66;03m# latency metric\u001b[39;00m\n\u001b[1;32m      9\u001b[0m metric_name \u001b[38;5;241m=\u001b[39m \u001b[38;5;124m'\u001b[39m\u001b[38;5;124mlocust_latency\u001b[39m\u001b[38;5;124m'\u001b[39m\n",
      "Cell \u001b[0;32mIn[6], line 54\u001b[0m, in \u001b[0;36mcreate_locust_metric\u001b[0;34m(metric_name, log_path, value_field, bucket_bounds)\u001b[0m\n\u001b[1;32m     49\u001b[0m \u001b[38;5;28;01mexcept\u001b[39;00m:\n\u001b[1;32m     50\u001b[0m     request \u001b[38;5;241m=\u001b[39m logging_v2\u001b[38;5;241m.\u001b[39mtypes\u001b[38;5;241m.\u001b[39mlogging_metrics\u001b[38;5;241m.\u001b[39mCreateLogMetricRequest(\n\u001b[1;32m     51\u001b[0m         parent\u001b[38;5;241m=\u001b[39mparent,\n\u001b[1;32m     52\u001b[0m         metric\u001b[38;5;241m=\u001b[39mmetric,\n\u001b[1;32m     53\u001b[0m     )\n\u001b[0;32m---> 54\u001b[0m     \u001b[43mlogging_client\u001b[49m\u001b[38;5;241;43m.\u001b[39;49m\u001b[43mcreate_log_metric\u001b[49m\u001b[43m(\u001b[49m\u001b[43mrequest\u001b[49m\u001b[43m)\u001b[49m\n\u001b[1;32m     55\u001b[0m     \u001b[38;5;28mprint\u001b[39m(\u001b[38;5;124m'\u001b[39m\u001b[38;5;124mCreated metric \u001b[39m\u001b[38;5;132;01m{}\u001b[39;00m\u001b[38;5;124m'\u001b[39m\u001b[38;5;241m.\u001b[39mformat(metric_path))\n",
      "File \u001b[0;32m~/.local/lib/python3.10/site-packages/google/cloud/logging_v2/services/metrics_service_v2/client.py:761\u001b[0m, in \u001b[0;36mMetricsServiceV2Client.create_log_metric\u001b[0;34m(self, request, parent, metric, retry, timeout, metadata)\u001b[0m\n\u001b[1;32m    756\u001b[0m metadata \u001b[38;5;241m=\u001b[39m \u001b[38;5;28mtuple\u001b[39m(metadata) \u001b[38;5;241m+\u001b[39m (\n\u001b[1;32m    757\u001b[0m     gapic_v1\u001b[38;5;241m.\u001b[39mrouting_header\u001b[38;5;241m.\u001b[39mto_grpc_metadata(((\u001b[38;5;124m\"\u001b[39m\u001b[38;5;124mparent\u001b[39m\u001b[38;5;124m\"\u001b[39m, request\u001b[38;5;241m.\u001b[39mparent),)),\n\u001b[1;32m    758\u001b[0m )\n\u001b[1;32m    760\u001b[0m \u001b[38;5;66;03m# Send the request.\u001b[39;00m\n\u001b[0;32m--> 761\u001b[0m response \u001b[38;5;241m=\u001b[39m \u001b[43mrpc\u001b[49m\u001b[43m(\u001b[49m\n\u001b[1;32m    762\u001b[0m \u001b[43m    \u001b[49m\u001b[43mrequest\u001b[49m\u001b[43m,\u001b[49m\n\u001b[1;32m    763\u001b[0m \u001b[43m    \u001b[49m\u001b[43mretry\u001b[49m\u001b[38;5;241;43m=\u001b[39;49m\u001b[43mretry\u001b[49m\u001b[43m,\u001b[49m\n\u001b[1;32m    764\u001b[0m \u001b[43m    \u001b[49m\u001b[43mtimeout\u001b[49m\u001b[38;5;241;43m=\u001b[39;49m\u001b[43mtimeout\u001b[49m\u001b[43m,\u001b[49m\n\u001b[1;32m    765\u001b[0m \u001b[43m    \u001b[49m\u001b[43mmetadata\u001b[49m\u001b[38;5;241;43m=\u001b[39;49m\u001b[43mmetadata\u001b[49m\u001b[43m,\u001b[49m\n\u001b[1;32m    766\u001b[0m \u001b[43m\u001b[49m\u001b[43m)\u001b[49m\n\u001b[1;32m    768\u001b[0m \u001b[38;5;66;03m# Done; return the response.\u001b[39;00m\n\u001b[1;32m    769\u001b[0m \u001b[38;5;28;01mreturn\u001b[39;00m response\n",
      "File \u001b[0;32m/opt/conda/lib/python3.10/site-packages/google/api_core/gapic_v1/method.py:113\u001b[0m, in \u001b[0;36m_GapicCallable.__call__\u001b[0;34m(self, timeout, retry, *args, **kwargs)\u001b[0m\n\u001b[1;32m    110\u001b[0m     metadata\u001b[38;5;241m.\u001b[39mextend(\u001b[38;5;28mself\u001b[39m\u001b[38;5;241m.\u001b[39m_metadata)\n\u001b[1;32m    111\u001b[0m     kwargs[\u001b[38;5;124m\"\u001b[39m\u001b[38;5;124mmetadata\u001b[39m\u001b[38;5;124m\"\u001b[39m] \u001b[38;5;241m=\u001b[39m metadata\n\u001b[0;32m--> 113\u001b[0m \u001b[38;5;28;01mreturn\u001b[39;00m \u001b[43mwrapped_func\u001b[49m\u001b[43m(\u001b[49m\u001b[38;5;241;43m*\u001b[39;49m\u001b[43margs\u001b[49m\u001b[43m,\u001b[49m\u001b[43m \u001b[49m\u001b[38;5;241;43m*\u001b[39;49m\u001b[38;5;241;43m*\u001b[39;49m\u001b[43mkwargs\u001b[49m\u001b[43m)\u001b[49m\n",
      "File \u001b[0;32m/opt/conda/lib/python3.10/site-packages/google/api_core/grpc_helpers.py:67\u001b[0m, in \u001b[0;36m_wrap_unary_errors.<locals>.error_remapped_callable\u001b[0;34m(*args, **kwargs)\u001b[0m\n\u001b[1;32m     65\u001b[0m     \u001b[38;5;28;01mreturn\u001b[39;00m callable_(\u001b[38;5;241m*\u001b[39margs, \u001b[38;5;241m*\u001b[39m\u001b[38;5;241m*\u001b[39mkwargs)\n\u001b[1;32m     66\u001b[0m \u001b[38;5;28;01mexcept\u001b[39;00m grpc\u001b[38;5;241m.\u001b[39mRpcError \u001b[38;5;28;01mas\u001b[39;00m exc:\n\u001b[0;32m---> 67\u001b[0m     \u001b[38;5;28;01mraise\u001b[39;00m exceptions\u001b[38;5;241m.\u001b[39mfrom_grpc_error(exc) \u001b[38;5;28;01mfrom\u001b[39;00m \u001b[38;5;21;01mexc\u001b[39;00m\n",
      "\u001b[0;31mAlreadyExists\u001b[0m: 409 Metric locust_users already exists."
     ]
    }
   ],
   "source": [
    "# user count metric\n",
    "metric_name = 'locust_users'\n",
    "value_field = 'user_count'\n",
    "bucket_bounds = [1, 16, 32, 64, 128]\n",
    "\n",
    "create_locust_metric(metric_name, log_path, value_field, bucket_bounds)\n",
    "\n",
    "# latency metric\n",
    "metric_name = 'locust_latency'\n",
    "value_field = 'latency'\n",
    "bucket_bounds = [1, 50, 100, 200, 500]\n",
    "\n",
    "create_locust_metric(metric_name, log_path, value_field, bucket_bounds)\n",
    "\n",
    "# failure count metric\n",
    "metric_name = 'num_failures'\n",
    "value_field = 'num_failures'\n",
    "bucket_bounds = [1, 1000]\n",
    "\n",
    "create_locust_metric(metric_name, log_path, value_field, bucket_bounds)\n",
    "\n",
    "# request count metric\n",
    "metric_name = 'num_requests'\n",
    "value_field = 'num_requests'\n",
    "bucket_bounds = [1, 1000]\n",
    "\n",
    "create_locust_metric(metric_name, log_path, value_field, bucket_bounds)"
   ]
  },
  {
   "cell_type": "markdown",
   "metadata": {},
   "source": [
    "### 1.4. List metrics"
   ]
  },
  {
   "cell_type": "code",
   "execution_count": 9,
   "metadata": {},
   "outputs": [
    {
     "name": "stdout",
     "output_type": "stream",
     "text": [
      "projects/ultra-guard-361718/metricDescriptors/logging.googleapis.com/user/locust_latency\n",
      "projects/ultra-guard-361718/metricDescriptors/logging.googleapis.com/user/locust_users\n",
      "projects/ultra-guard-361718/metricDescriptors/logging.googleapis.com/user/num_failures\n",
      "projects/ultra-guard-361718/metricDescriptors/logging.googleapis.com/user/num_requests\n"
     ]
    }
   ],
   "source": [
    "request = {'parent': parent}\n",
    "metrics = logging_client.list_log_metrics(request)\n",
    "\n",
    "if not list(metrics):\n",
    "    print(\"There are not any log based metrics defined in the the project\")\n",
    "else:\n",
    "    for element in logging_client.list_log_metrics(request):\n",
    "        print(element.metric_descriptor.name)"
   ]
  },
  {
   "cell_type": "markdown",
   "metadata": {},
   "source": [
    "## 2. Creating the Cloud Monitoring dashboard\n",
    "\n",
    "The`dashboard_template` folder contains an example monitoring dashboard template that combines standard AI Platform Prediction metrics with log-based metrics defined in the previous steps. You can use [Python Client for Cloud Monitoring Dashboards API](https://googleapis.dev/python/monitoring-dashboards/latest/index.html) to create a dashboard based on the template.  "
   ]
  },
  {
   "cell_type": "markdown",
   "metadata": {},
   "source": [
    "### 2.1. Load the dashboard template"
   ]
  },
  {
   "cell_type": "code",
   "execution_count": 10,
   "metadata": {},
   "outputs": [],
   "source": [
    "dashboard_service_client = DashboardsServiceClient(credentials=creds)\n",
    "parent = 'projects/{}'.format(PROJECT_ID)\n",
    "\n",
    "dashboard_template_file = 'monitoring-template.json'\n",
    "with open(dashboard_template_file) as f:\n",
    "    dashboard_template = json.load(f)"
   ]
  },
  {
   "cell_type": "markdown",
   "metadata": {},
   "source": [
    "### 2.2. Create the dashboard in Cloud Monitoring"
   ]
  },
  {
   "cell_type": "code",
   "execution_count": 11,
   "metadata": {},
   "outputs": [],
   "source": [
    "dashboard_proto = Dashboard()\n",
    "request = {\n",
    "    'parent': parent,\n",
    "    'dashboard': dashboard_proto,\n",
    "}\n",
    "dashboard_proto = ParseDict(dashboard_template, dashboard_proto._pb)\n",
    "dashboard = dashboard_service_client.create_dashboard(request)"
   ]
  },
  {
   "cell_type": "code",
   "execution_count": 12,
   "metadata": {},
   "outputs": [
    {
     "name": "stdout",
     "output_type": "stream",
     "text": [
      "Dashboard name: AI Platform Prediction and Locust, Dashboard ID: projects/1092460109039/dashboards/0e21ab97-1fd3-40aa-9c9d-609f59c28112\n",
      "Dashboard name: AI Platform Prediction and Locust, Dashboard ID: projects/1092460109039/dashboards/9642ae90-0fb6-4dcf-8ff5-93f4177f6efb\n"
     ]
    }
   ],
   "source": [
    "for dashboard in dashboard_service_client.list_dashboards({'parent': parent}):\n",
    "    print('Dashboard name: {}, Dashboard ID: {}'.format(dashboard.display_name, dashboard.name))"
   ]
  },
  {
   "cell_type": "markdown",
   "metadata": {},
   "source": [
    "## 3. Deploying Locust to a GKE cluster\n",
    "\n",
    "Before proceeding, you need access to a GKE cluster. You can find a command to create a GKE cluster in [Environment setup](https://github.com/GoogleCloudPlatform/mlops-on-gcp/blob/master/model_serving/caip-load-testing/README.md#environment-setup) section of [README.md](https://github.com/GoogleCloudPlatform/mlops-on-gcp/blob/master/model_serving/caip-load-testing/README.md). The described deployment process can deploy Locust to any GKE cluster as long as there are enough compute resources to support your Locust configuration. The default configuration follows the Locust's best practices and requests one processor core and 4Gi of memory for the Locust master and one processor core and 2Gi of memory for each Locust worker. As you run your tests, it is important to monitor the the master and the workers for resource utilization and fine tune the allocated resources as required.\n",
    "\n",
    "The deployment process has been streamlined using [Kustomize](https://kustomize.io/). As described in the following steps, you can fine tune the baseline configuration by modifying the default `kustomization.yaml` and `patch.yaml` files in the `locust/manifests` folder.\n",
    "\n"
   ]
  },
  {
   "cell_type": "markdown",
   "metadata": {},
   "source": [
    "### 3.1. Install Kustomize"
   ]
  },
  {
   "cell_type": "code",
   "execution_count": 13,
   "metadata": {},
   "outputs": [
    {
     "name": "stdout",
     "output_type": "stream",
     "text": [
      "v5.1.1\n",
      "kustomize installed to /home/jupyter/mlops-on-gcp/model_serving/caip-load-testing/kustomize\n"
     ]
    }
   ],
   "source": [
    "!curl -s \"https://raw.githubusercontent.com/kubernetes-sigs/kustomize/master/hack/install_kustomize.sh\"  | bash\n",
    "!sudo mv kustomize /usr/local/bin"
   ]
  },
  {
   "cell_type": "markdown",
   "metadata": {},
   "source": [
    "### 3.2. Set credentials to access your GKE cluster\n",
    "\n",
    "Use, the `gcloud` command to set credentials to your GKE cluster. Make sure to update the `cluster_name` and `cluster_zone` variables with values reflecting your environment."
   ]
  },
  {
   "cell_type": "code",
   "execution_count": 14,
   "metadata": {},
   "outputs": [
    {
     "name": "stdout",
     "output_type": "stream",
     "text": [
      "Fetching cluster endpoint and auth data.\n",
      "kubeconfig entry generated for autopilot-cluster-1.\n"
     ]
    }
   ],
   "source": [
    "!gcloud container clusters get-credentials {GKE_CLUSTER_NAME} --zone {GKE_CLUSTER_ZONE}"
   ]
  },
  {
   "cell_type": "markdown",
   "metadata": {},
   "source": [
    "### 3.3. Build the Locust image\n",
    "\n",
    "The first step is to build a docker image that will be used to deploy Locust master and worker pods. The image is derived from the [baseline locust.io image](https://hub.docker.com/r/locustio/locust) and embeds the locustfile and the files's dependencies."
   ]
  },
  {
   "cell_type": "code",
   "execution_count": 15,
   "metadata": {},
   "outputs": [
    {
     "name": "stdout",
     "output_type": "stream",
     "text": [
      "Creating temporary tarball archive of 3 file(s) totalling 11.5 KiB before compression.\n",
      "Uploading tarball of [locust/locust-image] to [gs://ultra-guard-361718_cloudbuild/source/1693967091.847847-ff56e02aaee64463adf5c136729e7cc9.tgz]\n",
      "Created [https://cloudbuild.googleapis.com/v1/projects/ultra-guard-361718/locations/global/builds/b8957c06-16b1-49f6-9623-3a13c7c597f7].\n",
      "Logs are available at [ https://console.cloud.google.com/cloud-build/builds/b8957c06-16b1-49f6-9623-3a13c7c597f7?project=1092460109039 ].\n",
      "----------------------------- REMOTE BUILD OUTPUT ------------------------------\n",
      "starting build \"b8957c06-16b1-49f6-9623-3a13c7c597f7\"\n",
      "\n",
      "FETCHSOURCE\n",
      "Fetching storage object: gs://ultra-guard-361718_cloudbuild/source/1693967091.847847-ff56e02aaee64463adf5c136729e7cc9.tgz#1693967092059824\n",
      "Copying gs://ultra-guard-361718_cloudbuild/source/1693967091.847847-ff56e02aaee64463adf5c136729e7cc9.tgz#1693967092059824...\n",
      "/ [1 files][  3.4 KiB/  3.4 KiB]                                                \n",
      "Operation completed over 1 objects/3.4 KiB.\n",
      "BUILD\n",
      "Already have image (with digest): gcr.io/cloud-builders/docker\n",
      "Sending build context to Docker daemon  15.36kB\n",
      "Step 1/4 : FROM locustio/locust\n",
      "latest: Pulling from locustio/locust\n",
      "648e0aadf75a: Already exists\n",
      "81f178b24f84: Pulling fs layer\n",
      "bdc8959b1f25: Pulling fs layer\n",
      "552d6c178bfa: Pulling fs layer\n",
      "c21fda33f7d2: Pulling fs layer\n",
      "a3f5682a6ac3: Pulling fs layer\n",
      "fe5380bcfcfa: Pulling fs layer\n",
      "51e1c33de2cd: Pulling fs layer\n",
      "4f4fb700ef54: Pulling fs layer\n",
      "c21fda33f7d2: Waiting\n",
      "a3f5682a6ac3: Waiting\n",
      "fe5380bcfcfa: Waiting\n",
      "51e1c33de2cd: Waiting\n",
      "4f4fb700ef54: Waiting\n",
      "552d6c178bfa: Verifying Checksum\n",
      "552d6c178bfa: Download complete\n",
      "81f178b24f84: Verifying Checksum\n",
      "81f178b24f84: Download complete\n",
      "bdc8959b1f25: Verifying Checksum\n",
      "bdc8959b1f25: Download complete\n",
      "c21fda33f7d2: Verifying Checksum\n",
      "c21fda33f7d2: Download complete\n",
      "81f178b24f84: Pull complete\n",
      "fe5380bcfcfa: Verifying Checksum\n",
      "fe5380bcfcfa: Download complete\n",
      "a3f5682a6ac3: Verifying Checksum\n",
      "a3f5682a6ac3: Download complete\n",
      "4f4fb700ef54: Verifying Checksum\n",
      "4f4fb700ef54: Download complete\n",
      "51e1c33de2cd: Verifying Checksum\n",
      "51e1c33de2cd: Download complete\n",
      "bdc8959b1f25: Pull complete\n",
      "552d6c178bfa: Pull complete\n",
      "c21fda33f7d2: Pull complete\n",
      "a3f5682a6ac3: Pull complete\n",
      "fe5380bcfcfa: Pull complete\n",
      "51e1c33de2cd: Pull complete\n",
      "4f4fb700ef54: Pull complete\n",
      "Digest: sha256:6fd38312c82d2878dbb551b4fc41d017afc09ff7751356c25116d5e4741ca4f7\n",
      "Status: Downloaded newer image for locustio/locust:latest\n",
      " ---> c96ebf365366\n",
      "Step 2/4 : WORKDIR /tasks\n",
      " ---> Running in 8b03ccf0d168\n",
      "Removing intermediate container 8b03ccf0d168\n",
      " ---> b1371b7daea9\n",
      "Step 3/4 : COPY task.py .\n",
      " ---> 48777430ca1f\n",
      "Step 4/4 : RUN pip install -U google-auth google-cloud-storage google-cloud-logging python-dotenv\n",
      " ---> Running in 2b28c33759dc\n",
      "Collecting google-auth\n",
      "  Downloading google_auth-2.22.0-py2.py3-none-any.whl (181 kB)\n",
      "     ━━━━━━━━━━━━━━━━━━━━━━━━━━━━━━━━━━━━━━━ 181.8/181.8 kB 5.6 MB/s eta 0:00:00\n",
      "Collecting google-cloud-storage\n",
      "  Downloading google_cloud_storage-2.10.0-py2.py3-none-any.whl (114 kB)\n",
      "     ━━━━━━━━━━━━━━━━━━━━━━━━━━━━━━━━━━━━━━ 114.6/114.6 kB 11.3 MB/s eta 0:00:00\n",
      "Collecting google-cloud-logging\n",
      "  Downloading google_cloud_logging-3.6.0-py2.py3-none-any.whl (195 kB)\n",
      "     ━━━━━━━━━━━━━━━━━━━━━━━━━━━━━━━━━━━━━━ 195.9/195.9 kB 13.0 MB/s eta 0:00:00\n",
      "Collecting python-dotenv\n",
      "  Downloading python_dotenv-1.0.0-py3-none-any.whl (19 kB)\n",
      "Requirement already satisfied: six>=1.9.0 in /opt/venv/lib/python3.10/site-packages (from google-auth) (1.16.0)\n",
      "Collecting pyasn1-modules>=0.2.1\n",
      "  Downloading pyasn1_modules-0.3.0-py2.py3-none-any.whl (181 kB)\n",
      "     ━━━━━━━━━━━━━━━━━━━━━━━━━━━━━━━━━━━━━━ 181.3/181.3 kB 11.1 MB/s eta 0:00:00\n",
      "Collecting rsa<5,>=3.1.4\n",
      "  Downloading rsa-4.9-py3-none-any.whl (34 kB)\n",
      "Collecting cachetools<6.0,>=2.0.0\n",
      "  Downloading cachetools-5.3.1-py3-none-any.whl (9.3 kB)\n",
      "Collecting urllib3<2.0\n",
      "  Downloading urllib3-1.26.16-py2.py3-none-any.whl (143 kB)\n",
      "     ━━━━━━━━━━━━━━━━━━━━━━━━━━━━━━━━━━━━━━━ 143.1/143.1 kB 8.9 MB/s eta 0:00:00\n",
      "Collecting google-cloud-core<3.0dev,>=2.3.0\n",
      "  Downloading google_cloud_core-2.3.3-py2.py3-none-any.whl (29 kB)\n",
      "Collecting google-resumable-media>=2.3.2\n",
      "  Downloading google_resumable_media-2.5.0-py2.py3-none-any.whl (77 kB)\n",
      "     ━━━━━━━━━━━━━━━━━━━━━━━━━━━━━━━━━━━━━━━━ 77.7/77.7 kB 12.8 MB/s eta 0:00:00\n",
      "Requirement already satisfied: requests<3.0.0dev,>=2.18.0 in /opt/venv/lib/python3.10/site-packages (from google-cloud-storage) (2.31.0)\n",
      "Collecting google-api-core!=2.0.*,!=2.1.*,!=2.2.*,!=2.3.0,<3.0.0dev,>=1.31.5\n",
      "  Downloading google_api_core-2.11.1-py3-none-any.whl (120 kB)\n",
      "     ━━━━━━━━━━━━━━━━━━━━━━━━━━━━━━━━━━━━━━ 120.5/120.5 kB 13.3 MB/s eta 0:00:00\n",
      "Collecting google-cloud-appengine-logging<2.0.0dev,>=0.1.0\n",
      "  Downloading google_cloud_appengine_logging-1.3.1-py2.py3-none-any.whl (16 kB)\n",
      "Collecting grpc-google-iam-v1<1.0.0dev,>=0.12.4\n",
      "  Downloading grpc_google_iam_v1-0.12.6-py2.py3-none-any.whl (26 kB)\n",
      "Collecting protobuf!=3.20.0,!=3.20.1,!=4.21.0,!=4.21.1,!=4.21.2,!=4.21.3,!=4.21.4,!=4.21.5,<5.0.0dev,>=3.19.5\n",
      "  Downloading protobuf-4.24.2-cp37-abi3-manylinux2014_x86_64.whl (311 kB)\n",
      "     ━━━━━━━━━━━━━━━━━━━━━━━━━━━━━━━━━━━━━━ 311.4/311.4 kB 11.3 MB/s eta 0:00:00\n",
      "Collecting proto-plus<2.0.0dev,>=1.22.0\n",
      "  Downloading proto_plus-1.22.3-py3-none-any.whl (48 kB)\n",
      "     ━━━━━━━━━━━━━━━━━━━━━━━━━━━━━━━━━━━━━━━━ 48.1/48.1 kB 7.1 MB/s eta 0:00:00\n",
      "Collecting google-cloud-audit-log<1.0.0dev,>=0.1.0\n",
      "  Downloading google_cloud_audit_log-0.2.5-py2.py3-none-any.whl (12 kB)\n",
      "Collecting googleapis-common-protos<2.0.dev0,>=1.56.2\n",
      "  Downloading googleapis_common_protos-1.60.0-py2.py3-none-any.whl (227 kB)\n",
      "     ━━━━━━━━━━━━━━━━━━━━━━━━━━━━━━━━━━━━━━ 227.6/227.6 kB 17.7 MB/s eta 0:00:00\n",
      "Collecting grpcio-status<2.0.dev0,>=1.33.2\n",
      "  Downloading grpcio_status-1.57.0-py3-none-any.whl (5.1 kB)\n",
      "Collecting grpcio<2.0dev,>=1.33.2\n",
      "  Downloading grpcio-1.57.0-cp310-cp310-manylinux_2_17_x86_64.manylinux2014_x86_64.whl (5.3 MB)\n",
      "     ━━━━━━━━━━━━━━━━━━━━━━━━━━━━━━━━━━━━━━━━ 5.3/5.3 MB 26.8 MB/s eta 0:00:00\n",
      "Collecting google-crc32c<2.0dev,>=1.0\n",
      "  Downloading google_crc32c-1.5.0-cp310-cp310-manylinux_2_17_x86_64.manylinux2014_x86_64.whl (32 kB)\n",
      "Collecting pyasn1<0.6.0,>=0.4.6\n",
      "  Downloading pyasn1-0.5.0-py2.py3-none-any.whl (83 kB)\n",
      "     ━━━━━━━━━━━━━━━━━━━━━━━━━━━━━━━━━━━━━━━━ 83.9/83.9 kB 11.6 MB/s eta 0:00:00\n",
      "Requirement already satisfied: idna<4,>=2.5 in /opt/venv/lib/python3.10/site-packages (from requests<3.0.0dev,>=2.18.0->google-cloud-storage) (3.4)\n",
      "Requirement already satisfied: certifi>=2017.4.17 in /opt/venv/lib/python3.10/site-packages (from requests<3.0.0dev,>=2.18.0->google-cloud-storage) (2023.7.22)\n",
      "Requirement already satisfied: charset-normalizer<4,>=2 in /opt/venv/lib/python3.10/site-packages (from requests<3.0.0dev,>=2.18.0->google-cloud-storage) (3.2.0)\n",
      "Installing collected packages: urllib3, python-dotenv, pyasn1, protobuf, grpcio, google-crc32c, cachetools, rsa, pyasn1-modules, proto-plus, googleapis-common-protos, google-resumable-media, grpcio-status, google-cloud-audit-log, google-auth, grpc-google-iam-v1, google-api-core, google-cloud-core, google-cloud-storage, google-cloud-appengine-logging, google-cloud-logging\n",
      "  Attempting uninstall: urllib3\n",
      "    Found existing installation: urllib3 2.0.4\n",
      "    Uninstalling urllib3-2.0.4:\n",
      "      Successfully uninstalled urllib3-2.0.4\n",
      "Successfully installed cachetools-5.3.1 google-api-core-2.11.1 google-auth-2.22.0 google-cloud-appengine-logging-1.3.1 google-cloud-audit-log-0.2.5 google-cloud-core-2.3.3 google-cloud-logging-3.6.0 google-cloud-storage-2.10.0 google-crc32c-1.5.0 google-resumable-media-2.5.0 googleapis-common-protos-1.60.0 grpc-google-iam-v1-0.12.6 grpcio-1.57.0 grpcio-status-1.57.0 proto-plus-1.22.3 protobuf-4.24.2 pyasn1-0.5.0 pyasn1-modules-0.3.0 python-dotenv-1.0.0 rsa-4.9 urllib3-1.26.16\n",
      "\u001b[91m\n",
      "[notice] A new release of pip is available: 23.0.1 -> 23.2.1\n",
      "[notice] To update, run: pip install --upgrade pip\n",
      "\u001b[0mRemoving intermediate container 2b28c33759dc\n",
      " ---> c3112d000f35\n",
      "Successfully built c3112d000f35\n",
      "Successfully tagged gcr.io/ultra-guard-361718/locust:latest\n",
      "PUSH\n",
      "Pushing gcr.io/ultra-guard-361718/locust\n",
      "The push refers to repository [gcr.io/ultra-guard-361718/locust]\n",
      "03c1d304f0b0: Preparing\n",
      "369699762aea: Preparing\n",
      "7db21f9fdbdb: Preparing\n",
      "5f70bf18a086: Preparing\n",
      "95ecd7997e64: Preparing\n",
      "b6d0164d63ff: Preparing\n",
      "8923c3fac5e1: Preparing\n",
      "a6bf7c46a629: Preparing\n",
      "da44f9c48dcf: Preparing\n",
      "5e55156a4e11: Preparing\n",
      "5f77f286226c: Preparing\n",
      "c6e34807c2d5: Preparing\n",
      "a6bf7c46a629: Waiting\n",
      "da44f9c48dcf: Waiting\n",
      "5e55156a4e11: Waiting\n",
      "5f77f286226c: Waiting\n",
      "c6e34807c2d5: Waiting\n",
      "b6d0164d63ff: Waiting\n",
      "8923c3fac5e1: Waiting\n",
      "5f70bf18a086: Layer already exists\n",
      "95ecd7997e64: Layer already exists\n",
      "8923c3fac5e1: Layer already exists\n",
      "b6d0164d63ff: Layer already exists\n",
      "a6bf7c46a629: Layer already exists\n",
      "da44f9c48dcf: Layer already exists\n",
      "5e55156a4e11: Layer already exists\n",
      "5f77f286226c: Layer already exists\n",
      "c6e34807c2d5: Layer already exists\n",
      "369699762aea: Pushed\n",
      "7db21f9fdbdb: Pushed\n",
      "03c1d304f0b0: Pushed\n",
      "latest: digest: sha256:1b4d34583580e934d2c724658bafa6ff80ff8fd5218f159ce16af3a759dda5c2 size: 2836\n",
      "DONE\n",
      "--------------------------------------------------------------------------------\n",
      "ID                                    CREATE_TIME                DURATION  SOURCE                                                                                            IMAGES                                      STATUS\n",
      "b8957c06-16b1-49f6-9623-3a13c7c597f7  2023-09-06T02:24:52+00:00  41S       gs://ultra-guard-361718_cloudbuild/source/1693967091.847847-ff56e02aaee64463adf5c136729e7cc9.tgz  gcr.io/ultra-guard-361718/locust (+1 more)  SUCCESS\n"
     ]
    }
   ],
   "source": [
    "image_uri = 'gcr.io/{}/locust'.format(PROJECT_ID)\n",
    "\n",
    "!gcloud builds submit --tag {image_uri} locust/locust-image"
   ]
  },
  {
   "cell_type": "markdown",
   "metadata": {},
   "source": [
    "### 3.4. Update the manifests\n",
    "\n",
    "Before proceeding with deployment, you need to update the default manifests. The manifests are located in the `locust/manifests` folder. You will modify two files: `kustomization.yaml` and `patch.yaml`.\n",
    "\n",
    "1. **Set the name of the custom Locust image** - Update the `kustomization.yaml` file with a reference to the custom image you created in the previous step.  Update the `newName` field in the `images` section of the `kustomization.yaml` file.\n",
    "\n",
    "2. **Set the number of worker pods** - The default configuration deploys 32 worker pods. If you want to change it, modify the `count` field in the `replicas` section of the `kustomization.yaml` file. Make sure that your GKE cluster has as sufficient CPUs for the Locust workers.\n",
    "\n",
    "3. **Set the GCS bucket for the test configuration and data files** - When you start a test, the locustfile retrieves a test configuration and test data files from a GCS location. Modify the `configMapGenerator` section of the `kustomization.yaml` file to set the `LOCUST_TEST_BUCKET`, `LOCUST_TEST_CONFIG`, and `LOCUST_TEST_PAYLOAD` literals to the GCS bucket name, the test config file name, and the test data config file name respectively.\n",
    "\n",
    "4.  **Modify the node pool that hosts the Locust master and workers** - Update the name of the node pool in the `patch.yaml` file to which the Locust workload will be deployed. By default, the node pool name is `default-pool`. The name of the node pool is a value of the `values` field in the `matchExpressions` section."
   ]
  },
  {
   "cell_type": "code",
   "execution_count": 16,
   "metadata": {},
   "outputs": [
    {
     "name": "stdout",
     "output_type": "stream",
     "text": [
      "# Copyright 2019 Google Inc. All Rights Reserved.\n",
      "#\n",
      "# Licensed under the Apache License, Version 2.0 (the \"License\");\n",
      "# you may not use this file except in compliance with the License.\n",
      "# You may obtain a copy of the License at\n",
      "#\n",
      "#            http://www.apache.org/licenses/LICENSE-2.0\n",
      "#\n",
      "# Unless required by applicable law or agreed to in writing, software\n",
      "# distributed under the License is distributed on an \"AS IS\" BASIS,\n",
      "# WITHOUT WARRANTIES OR CONDITIONS OF ANY KIND, either express or implied.\n",
      "# See the License for the specific language governing permissions and\n",
      "# limitations under the License.\n",
      "\n",
      "apiVersion: kustomize.config.k8s.io/v1beta1\n",
      "kind: Kustomization\n",
      "\n",
      "resources:\n",
      "- locust-master.yaml\n",
      "- locust-worker.yaml\n",
      "- locust-master-service.yaml\n",
      "\n",
      "images:\n",
      "- name: locustio/locust\n",
      "  newName: gcr.io/[your-project-Id]/locust:latest\n",
      "\n",
      "replicas:\n",
      "- name: locust-worker\n",
      "  count: 32\n",
      "    \n",
      "patches:\n",
      "- path: patch.yaml\n",
      "  target:\n",
      "    kind: Deployment\n",
      "\n",
      "configMapGenerator:\n",
      "- name: test-config-locations\n",
      "  literals:\n",
      "    - LOCUST_TEST_BUCKET=[your-bucket]\n",
      "    - LOCUST_TEST_CONFIG=locust-test/test-config.json\n",
      "    - LOCUST_TEST_PAYLOAD=locust-test/test-payload.json\n",
      "  options:\n",
      "    disableNameSuffixHash: true\n"
     ]
    }
   ],
   "source": [
    "!cat locust/manifests/kustomization.yaml"
   ]
  },
  {
   "cell_type": "code",
   "execution_count": 17,
   "metadata": {},
   "outputs": [
    {
     "name": "stdout",
     "output_type": "stream",
     "text": [
      "# Copyright 2019 Google Inc. All Rights Reserved.\n",
      "#\n",
      "# Licensed under the Apache License, Version 2.0 (the \"License\");\n",
      "# you may not use this file except in compliance with the License.\n",
      "# You may obtain a copy of the License at\n",
      "#\n",
      "#            http://www.apache.org/licenses/LICENSE-2.0\n",
      "#\n",
      "# Unless required by applicable law or agreed to in writing, software\n",
      "# distributed under the License is distributed on an \"AS IS\" BASIS,\n",
      "# WITHOUT WARRANTIES OR CONDITIONS OF ANY KIND, either express or implied.\n",
      "# See the License for the specific language governing permissions and\n",
      "# limitations under the License.\n",
      "\n",
      "apiVersion: apps/v1\n",
      "kind: Deployment\n",
      "metadata:\n",
      "  name: not-important\n",
      "spec:\n",
      "  template:\n",
      "    spec:\n",
      "      affinity:\n",
      "        nodeAffinity:\n",
      "          requiredDuringSchedulingIgnoredDuringExecution:\n",
      "            nodeSelectorTerms:\n",
      "            - matchExpressions:\n",
      "              - key: cloud.google.com/gke-nodepool\n",
      "                operator: In\n",
      "                values:\n",
      "                - default-pool\n"
     ]
    }
   ],
   "source": [
    "!cat locust/manifests/patch.yaml"
   ]
  },
  {
   "cell_type": "markdown",
   "metadata": {},
   "source": [
    "### 3.5. Deploy Locust\n",
    "\n",
    "You are now ready to deploy Locust."
   ]
  },
  {
   "cell_type": "code",
   "execution_count": 18,
   "metadata": {},
   "outputs": [
    {
     "name": "stdout",
     "output_type": "stream",
     "text": [
      "configmap/test-config-locations created\n",
      "service/locust-master created\n",
      "\u001b[33;1mWarning:\u001b[0m autopilot-default-resources-mutator:Autopilot updated Deployment default/locust-master: adjusted resources to meet requirements for containers [locust-master] (see http://g.co/gke/autopilot-resources)\n",
      "\u001b[33;1mWarning:\u001b[0m autopilot-default-resources-mutator:Autopilot updated Deployment default/locust-worker: adjusted resources to meet requirements for containers [locust-worker] (see http://g.co/gke/autopilot-resources)\n",
      "Error from server (GKE Warden constraints violations): error when creating \"STDIN\": admission webhook \"warden-validating.common-webhooks.networking.gke.io\" denied the request: GKE Warden rejected the request because it violates one or more constraints.\n",
      "Violations details: {\"[denied by autogke-node-affinity-selector-limitation]\":[\"Key 'cloud.google.com/gke-nodepool' is not allowed with node affinity; Autopilot only allows labels with keys: cloud.google.com/compute-class,cloud.google.com/gke-spot,cloud.google.com/gke-placement-group,topology.kubernetes.io/region,topology.kubernetes.io/zone,failure-domain.beta.kubernetes.io/region,failure-domain.beta.kubernetes.io/zone,cloud.google.com/gke-os-distribution,kubernetes.io/os,kubernetes.io/arch,cloud.google.com/private-node,sandbox.gke.io/runtime,cloud.google.com/gke-accelerator,cloud.google.com/gke-accelerator-count,iam.gke.io/gke-metadata-server-enabled.\"]}\n",
      "Requested by user: '1092460109039-compute@developer.gserviceaccount.com', groups: 'system:authenticated'.\n",
      "Error from server (GKE Warden constraints violations): error when creating \"STDIN\": admission webhook \"warden-validating.common-webhooks.networking.gke.io\" denied the request: GKE Warden rejected the request because it violates one or more constraints.\n",
      "Violations details: {\"[denied by autogke-node-affinity-selector-limitation]\":[\"Key 'cloud.google.com/gke-nodepool' is not allowed with node affinity; Autopilot only allows labels with keys: cloud.google.com/compute-class,cloud.google.com/gke-spot,cloud.google.com/gke-placement-group,topology.kubernetes.io/region,topology.kubernetes.io/zone,failure-domain.beta.kubernetes.io/region,failure-domain.beta.kubernetes.io/zone,cloud.google.com/gke-os-distribution,kubernetes.io/os,kubernetes.io/arch,cloud.google.com/private-node,sandbox.gke.io/runtime,cloud.google.com/gke-accelerator,cloud.google.com/gke-accelerator-count,iam.gke.io/gke-metadata-server-enabled.\"]}\n",
      "Requested by user: '1092460109039-compute@developer.gserviceaccount.com', groups: 'system:authenticated'.\n"
     ]
    }
   ],
   "source": [
    "!kustomize build locust/manifests |kubectl apply -f -"
   ]
  },
  {
   "cell_type": "markdown",
   "metadata": {},
   "source": [
    "## 4. Configure a Locust test\n",
    "\n",
    "At the start of each test, the locustfile script attempts to retrieve test data and a test configuration from a GCS location. Both the test data and the test configuration are formated as JSON. \n",
    "\n",
    "The test data is an array of JSON objects, where each object includes a list of instances and a model signature. If the array contains more than one object, Locust users will randomly pick a list of instances and an associated signature with each call to the `predict` method of the AI Platform Prediction endpoint.\n",
    "\n",
    "The test configuration is a JSON object with a project id, model name, model version, and a test id."
   ]
  },
  {
   "cell_type": "markdown",
   "metadata": {},
   "source": [
    "### 4.1. Prepare test data\n",
    "\n",
    "In this example we are using the  **ResNet101** model prepared and deployed in the `01-prepare-and-deploy.ipynb` notebook. We will prepare the instances for the `serving_preprocess` signature of the model using a couple of JPEG images from the `test_images` folder."
   ]
  },
  {
   "cell_type": "code",
   "execution_count": 50,
   "metadata": {},
   "outputs": [],
   "source": [
    "images = []\n",
    "for image_name in os.listdir(IMAGES_FOLDER):\n",
    "    with open(os.path.join(IMAGES_FOLDER, image_name), 'rb') as f:\n",
    "        images.append(f.read())"
   ]
  },
  {
   "cell_type": "code",
   "execution_count": 51,
   "metadata": {},
   "outputs": [],
   "source": [
    "single_instance = [{'b64': base64.b64encode(images[0]).decode('utf-8')}]\n",
    "two_instances = [{'b64': base64.b64encode(image).decode('utf-8')} for image in images] "
   ]
  },
  {
   "cell_type": "code",
   "execution_count": 52,
   "metadata": {},
   "outputs": [],
   "source": [
    "test_data = [\n",
    "        {\n",
    "            'signature': 'serving_preprocess',\n",
    "            'instances': single_instance\n",
    "        },\n",
    "        {\n",
    "            'signature': 'serving_preprocess',\n",
    "            'instances': two_instances\n",
    "        }\n",
    "    ]"
   ]
  },
  {
   "cell_type": "code",
   "execution_count": 53,
   "metadata": {},
   "outputs": [
    {
     "name": "stdout",
     "output_type": "stream",
     "text": [
      "Copying file://test-payload.json [Content-Type=application/json]...\n",
      "/ [1 files][246.0 KiB/246.0 KiB]                                                \n",
      "Operation completed over 1 objects/246.0 KiB.                                    \n"
     ]
    }
   ],
   "source": [
    "test_data_local_file = 'test-payload.json'\n",
    "\n",
    "with open (test_data_local_file, 'w') as f:\n",
    "    json.dump(test_data, f)\n",
    "    \n",
    "!gsutil cp {test_data_local_file} {GCS_LOCUST_TEST_CONFIG_DIR}/"
   ]
  },
  {
   "cell_type": "markdown",
   "metadata": {},
   "source": [
    "### 4.2 Prepare test config\n",
    "\n",
    "Make sure to update the below mapping with the values representing your environment. The `test_id` is an arbitrary value that is used to match the custom log-based metrics records with a given test run. Use a different value anytime you start a test."
   ]
  },
  {
   "cell_type": "code",
   "execution_count": 54,
   "metadata": {},
   "outputs": [],
   "source": [
    "test_id = 'test-{}'.format(datetime.datetime.now().strftime('%Y%m%d-%H%M%S'))\n",
    "\n",
    "test_config = {\n",
    "    'test_id': test_id,\n",
    "    'project_id': PROJECT_ID,\n",
    "    'model': MODEL_NAME,\n",
    "    'version': MODEL_VERSION\n",
    "}"
   ]
  },
  {
   "cell_type": "code",
   "execution_count": 55,
   "metadata": {},
   "outputs": [
    {
     "name": "stdout",
     "output_type": "stream",
     "text": [
      "Copying file://test-config.json [Content-Type=application/json]...\n",
      "/ [1 files][  118.0 B/  118.0 B]                                                \n",
      "Operation completed over 1 objects/118.0 B.                                      \n"
     ]
    }
   ],
   "source": [
    "test_config_local_file = 'test-config.json'\n",
    "\n",
    "with open (test_config_local_file, 'w') as f:\n",
    "    json.dump(test_config, f)\n",
    "\n",
    "!gsutil cp {test_config_local_file} {GCS_LOCUST_TEST_CONFIG_DIR}/"
   ]
  },
  {
   "cell_type": "code",
   "execution_count": 56,
   "metadata": {},
   "outputs": [
    {
     "name": "stdout",
     "output_type": "stream",
     "text": [
      "gs://ml_project_bucket_1/locust-test/test-config.json\n",
      "gs://ml_project_bucket_1/locust-test/test-payload.json\n"
     ]
    }
   ],
   "source": [
    "!gsutil ls {GCS_LOCUST_TEST_CONFIG_DIR}"
   ]
  },
  {
   "cell_type": "markdown",
   "metadata": {},
   "source": [
    "## 5. Run the Locust load Tests\n",
    "\n",
    "Load tests can be configured, started, monitored and stopped using using Locust's [web interface](https://docs.locust.io/en/stable/quickstart.html#locust-s-web-interface). \n",
    "\n",
    "In our deployment, the web interface is exposed by an external load balancer. You can access the interface using the following URL:"
   ]
  },
  {
   "cell_type": "code",
   "execution_count": 57,
   "metadata": {},
   "outputs": [
    {
     "name": "stderr",
     "output_type": "stream",
     "text": [
      "Error from server (NotFound): services \"locust-master\" not found\n"
     ]
    },
    {
     "name": "stdout",
     "output_type": "stream",
     "text": [
      "http://:8089\n"
     ]
    }
   ],
   "source": [
    "%%bash\n",
    "IP_ADDRESS=$(kubectl get service locust-master | awk -v  col=4 'FNR==2{print $col}')\n",
    "echo http://$IP_ADDRESS:8089"
   ]
  },
  {
   "cell_type": "markdown",
   "metadata": {},
   "source": [
    "You can try using the following parameter configurations:\n",
    "1. Number of total users to simulate: 152\n",
    "2. Spawn rate: 1\n",
    "3. Host: `http://[your-region]-ml.googleapis.com`\n",
    "\n",
    "**NOTE**: `[your-region]` is the region for deploying the model that you configured as `REGION` in the first notebook. "
   ]
  },
  {
   "cell_type": "markdown",
   "metadata": {},
   "source": [
    "## Cleaning up: remove the Locust deployment"
   ]
  },
  {
   "cell_type": "code",
   "execution_count": 49,
   "metadata": {},
   "outputs": [
    {
     "name": "stdout",
     "output_type": "stream",
     "text": [
      "configmap \"test-config-locations\" deleted\n",
      "service \"locust-master\" deleted\n",
      "Error from server (NotFound): error when deleting \"STDIN\": deployments.apps \"locust-master\" not found\n",
      "Error from server (NotFound): error when deleting \"STDIN\": deployments.apps \"locust-worker\" not found\n"
     ]
    }
   ],
   "source": [
    "!kustomize build locust/manifests | kubectl delete -f -"
   ]
  },
  {
   "cell_type": "markdown",
   "metadata": {},
   "source": [
    "## Next step\n",
    "\n",
    "After a test completes, the test's metrics are retrieved from Cloud Monitoring and consolidated into a Pandas dataframe to facilitate comprehensive post-mortem analysis, using the `03-analyze-test.ipynb` Notebook. Please review the [Data Retention](https://cloud.google.com/monitoring/quotas#data_retention_policy) policies of Cloud Monitoring.\n",
    "\n"
   ]
  },
  {
   "cell_type": "markdown",
   "metadata": {},
   "source": [
    "## License\n",
    "\n",
    "Licensed under the Apache License, Version 2.0 (the \"License\");\n",
    "you may not use this file except in compliance with the License.\n",
    "You may obtain a copy of the License at [https://www.apache.org/licenses/LICENSE-2.0](https://www.apache.org/licenses/LICENSE-2.0)\n",
    "\n",
    "Unless required by applicable law or agreed to in writing, software distributed under the License is distributed on an \"AS IS\" BASIS, WITHOUT WARRANTIES OR CONDITIONS OF ANY KIND, either express or implied.  See the License for the specific language governing permissions and limitations under the License."
   ]
  },
  {
   "cell_type": "code",
   "execution_count": null,
   "metadata": {},
   "outputs": [],
   "source": []
  }
 ],
 "metadata": {
  "environment": {
   "kernel": "python3",
   "name": "tf2-gpu.2-11.m110",
   "type": "gcloud",
   "uri": "gcr.io/deeplearning-platform-release/tf2-gpu.2-11:m110"
  },
  "kernelspec": {
   "display_name": "Python 3",
   "language": "python",
   "name": "python3"
  },
  "language_info": {
   "codemirror_mode": {
    "name": "ipython",
    "version": 3
   },
   "file_extension": ".py",
   "mimetype": "text/x-python",
   "name": "python",
   "nbconvert_exporter": "python",
   "pygments_lexer": "ipython3",
   "version": "3.10.12"
  }
 },
 "nbformat": 4,
 "nbformat_minor": 4
}
